{
 "cells": [
  {
   "cell_type": "markdown",
   "metadata": {},
   "source": [
    "# Cost of Selling On Amazon Calculator"
   ]
  },
  {
   "cell_type": "markdown",
   "metadata": {},
   "source": [
    "## Notes:"
   ]
  },
  {
   "cell_type": "markdown",
   "metadata": {},
   "source": [
    "### Referral Fee\n",
    "- Product Category\n",
    "- Product Price\n",
    "- Range from 6% - 20%\n",
    "- Minimum is 1 dollar\n",
    "    - Unless jewelery, then 2 dollars\n",
    "\n",
    "### Variable Closing Fee\n",
    "- Media products are +1.80\n",
    "    - CDs\n",
    "    - DVD\n",
    "    - Books\n",
    "    - Video Games & Consoles\n",
    "    - Software"
   ]
  },
  {
   "cell_type": "code",
   "execution_count": null,
   "metadata": {},
   "outputs": [],
   "source": [
    "def referral_fee(product):\n",
    "    "
   ]
  },
  {
   "cell_type": "code",
   "execution_count": null,
   "metadata": {},
   "outputs": [],
   "source": [
    "#So every morning, we will scrape walmart of all the products in the stores of the zipcodes we have from the slack\n",
    "#Then we will search the products on amazon to find out the price of the product and use the calculator\n",
    "#Next we compare the values and if the walmart product is cheaper than the maked down amazon product => post on slack\n",
    "#Get people to pay for the service"
   ]
  }
 ],
 "metadata": {
  "kernelspec": {
   "display_name": "Python 3",
   "language": "python",
   "name": "python3"
  },
  "language_info": {
   "codemirror_mode": {
    "name": "ipython",
    "version": 3
   },
   "file_extension": ".py",
   "mimetype": "text/x-python",
   "name": "python",
   "nbconvert_exporter": "python",
   "pygments_lexer": "ipython3",
   "version": "3.7.3"
  }
 },
 "nbformat": 4,
 "nbformat_minor": 2
}
