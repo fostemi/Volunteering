{
 "cells": [
  {
   "cell_type": "code",
   "execution_count": 2,
   "metadata": {},
   "outputs": [],
   "source": [
    "#Bloomington scrape\n",
    "#Want the skew\n",
    "#Marked Down Price \n",
    "#Every hour"
   ]
  },
  {
   "cell_type": "code",
   "execution_count": 3,
   "metadata": {},
   "outputs": [],
   "source": [
    "#Import nessecery libraries\n",
    "from bs4 import BeautifulSoup\n",
    "import requests"
   ]
  },
  {
   "cell_type": "code",
   "execution_count": 4,
   "metadata": {},
   "outputs": [],
   "source": [
    "#div class = 'rollback-result-wrapper'\n",
    "#div class = 'title-title'\n",
    "#div class = 'title-price'\n"
   ]
  },
  {
   "cell_type": "code",
   "execution_count": 6,
   "metadata": {},
   "outputs": [
    {
     "name": "stdout",
     "output_type": "stream",
     "text": [
      "[<div class=\"rollback-result-wrapper\"><div class=\"item-tile\" data-tl-id=\"ItemTile-SearchResultsTile-0\"><div aria-hidden=\"false\" class=\"tile u-focusTile\" data-tile-id=\"0\" id=\"search_results_tile_0\" tabindex=\"-1\"><a class=\"display-block\" href=\"/ip/Linksys-N600-Dual-Band-WiFi-Router-Black-Internet-Router-2500/834225459?wpa_bd=&amp;wpa_pg_seller_id=F55CDC31AB754BB68FE0B39041159D63&amp;wpa_ref_id=wpaqs:BUfTZfAB44eTLkCdtMFmNVfF4rNzn8eYSZwc8q429JRIYPgQAsp6jmUmkwzZFwGZ9YYJoTUwhNTE3zkULQJUA9pXzgbHu4O45EuArI0hH40wq-3LoMaNuGruUEmp0Az43aFZCMVRxXNGYPCn89XFvYg-PxM4-dA3JQrKZ_VrV5dme-eCNZ4yyOaoZgOxGo4vlNjY_3WoYkVJIUxhnI3EXQ&amp;wpa_tag=__tag__&amp;wpa_aux_info=__aux_info__&amp;wpa_pos=2&amp;wpa_plmt=__plmt__&amp;wpa_aduid=__aduid__\" tabindex=\"0\"><div class=\"tile-flags\"><span class=\"flag rollback\" data-tl-id=\"flag-rollback\">Rollback</span></div><img alt=\"Linksys N600 Dual Band WiFi Router, Black Internet Router (2500)\" aria-hidden=\"false\" class=\"tile-img\" itemprop=\"image\" loading=\"lazy\" src=\"//i5.walmartimages.com/asr/31e192ed-3cd4-4470-b0f0-07d0bfa32f3b_1.11701981bd32dda7cf778978e3da6b71.jpeg?odnWidth=282&amp;odnHeight=282&amp;odnBg=ffffff\" tabindex=\"-1\"/><div class=\"tile-content clearfix\" tabindex=\"-1\"><div aria-label=\"In Stock, Aisle M.2\" class=\"tile-in-store-info\">Aisle M.2<span class=\"spacer\">|</span><span class=\"avail in-stock\">In Stock</span></div><div aria-hidden=\"true\" class=\"tile-title\" data-tl-id=\"ItemTile-productName\"><div style=\"max-height:3em;overflow:hidden\">Linksys N600 Dual Band WiFi Router, Black Internet Router (2500)</div></div><div class=\"tile-stars\"><div class=\"stars stars-small\"><span aria-label=\"4.2 Stars. 219 reviews.\" class=\"stars-container\" role=\"text\" tabindex=\"-1\"><span class=\"star display-inline-block star-rated\" data-automation-id=\"stars-star-0\"></span><span class=\"star display-inline-block star-rated\" data-automation-id=\"stars-star-1\"></span><span class=\"star display-inline-block star-rated\" data-automation-id=\"stars-star-2\"></span><span class=\"star display-inline-block star-rated\" data-automation-id=\"stars-star-3\"></span><span class=\"star display-inline-block star-empty\" data-automation-id=\"stars-star-4\"></span></span><span aria-hidden=\"true\" class=\"stars-reviews font-normal\" data-automation-id=\"stars-reviews\" tabindex=\"-1\"><span class=\"stars-reviews-count-node\">219</span></span></div></div><div aria-hidden=\"false\" class=\"tile-price\" tabindex=\"-1\"><span class=\"price\"><span class=\"visuallyhidden\">$26.00</span><span aria-hidden=\"true\" class=\"price-group\"><span class=\"price-currency\">$</span><span class=\"price-characteristic\">26</span><span class=\"price-mark\">.</span><span class=\"price-mantissa\">00</span></span></span></div></div></a></div></div></div>, <div class=\"rollback-result-wrapper\"><div class=\"item-tile\" data-tl-id=\"ItemTile-SearchResultsTile-1\"><div aria-hidden=\"false\" class=\"tile u-focusTile\" data-tile-id=\"1\" id=\"search_results_tile_1\" tabindex=\"-1\"><a class=\"display-block\" href=\"/ip/Apple-AirPods-Pro/520468661\" tabindex=\"0\"><div class=\"tile-flags\"><span class=\"flag rollback\" data-tl-id=\"flag-rollback\">Rollback</span></div><img alt=\"Apple AirPods Pro\" aria-hidden=\"false\" class=\"tile-img\" itemprop=\"image\" loading=\"lazy\" src=\"//i5.walmartimages.com/asr/c67bebef-646f-4cbb-9f06-432b491540cd_1.a85f65354949e93ab03dcb078a7d6495.jpeg?odnWidth=282&amp;odnHeight=282&amp;odnBg=ffffff\" tabindex=\"-1\"/><div class=\"tile-content clearfix\" tabindex=\"-1\"><div aria-label=\"In Stock, Aisle M.1\" class=\"tile-in-store-info\">Aisle M.1<span class=\"spacer\">|</span><span class=\"avail in-stock\">In Stock</span></div><div aria-hidden=\"true\" class=\"tile-title\" data-tl-id=\"ItemTile-productName\"><div style=\"max-height:3em;overflow:hidden\">Apple AirPods Pro</div></div><div class=\"tile-stars\"><div class=\"stars stars-small\"><span aria-label=\"4.6 Stars. 5907 reviews.\" class=\"stars-container\" role=\"text\" tabindex=\"-1\"><span class=\"star display-inline-block star-rated\" data-automation-id=\"stars-star-0\"></span><span class=\"star display-inline-block star-rated\" data-automation-id=\"stars-star-1\"></span><span class=\"star display-inline-block star-rated\" data-automation-id=\"stars-star-2\"></span><span class=\"star display-inline-block star-rated\" data-automation-id=\"stars-star-3\"></span><span class=\"star display-inline-block star-partial\" data-automation-id=\"stars-star-4\"></span></span><span aria-hidden=\"true\" class=\"stars-reviews font-normal\" data-automation-id=\"stars-reviews\" tabindex=\"-1\"><span class=\"stars-reviews-count-node\">5907</span></span></div></div><div aria-hidden=\"false\" class=\"tile-price\" tabindex=\"-1\"><span class=\"price\"><span class=\"visuallyhidden\">$197.00</span><span aria-hidden=\"true\" class=\"price-group\"><span class=\"price-currency\">$</span><span class=\"price-characteristic\">197</span><span class=\"price-mark\">.</span><span class=\"price-mantissa\">00</span></span></span></div></div></a></div></div></div>, <div class=\"rollback-result-wrapper\"><div class=\"item-tile\" data-tl-id=\"ItemTile-SearchResultsTile-2\"><div aria-hidden=\"false\" class=\"tile u-focusTile\" data-tile-id=\"2\" id=\"search_results_tile_2\" tabindex=\"-1\"><a class=\"display-block\" href=\"/ip/onn-8-Tablet-Pro-32GB-Storage-2GB-RAM-Android-10-2-0-GHz-Octa-Core-Processor-HD-Display/648267237\" tabindex=\"0\"><div class=\"tile-flags\"><span class=\"flag rollback\" data-tl-id=\"flag-rollback\">Rollback</span></div><img alt='onn. 8\" Tablet Pro, 32GB Storage, 2GB RAM, Android 10, 2.0 GHz Octa-Core Processor, HD Display' aria-hidden=\"false\" class=\"tile-img\" itemprop=\"image\" loading=\"lazy\" src=\"//i5.walmartimages.com/asr/2b2b376d-12e0-4291-875e-40e4a28779bd.abae26566772596bd34594592ad39602.jpeg?odnWidth=282&amp;odnHeight=282&amp;odnBg=ffffff\" tabindex=\"-1\"/><div class=\"tile-content clearfix\" tabindex=\"-1\"><div aria-label=\"In Stock, Aisle M.12\" class=\"tile-in-store-info\">Aisle M.12<span class=\"spacer\">|</span><span class=\"avail in-stock\">In Stock</span></div><div aria-hidden=\"true\" class=\"tile-title\" data-tl-id=\"ItemTile-productName\"><div style=\"max-height:3em;overflow:hidden\">onn. 8\" Tablet Pro, 32GB Storage, 2GB RAM, Android 10, 2.0 GHz Octa-Core Processor, HD Display</div></div><div class=\"tile-stars\"><div class=\"stars stars-small\"><span aria-label=\"4.1 Stars. 274 reviews.\" class=\"stars-container\" role=\"text\" tabindex=\"-1\"><span class=\"star display-inline-block star-rated\" data-automation-id=\"stars-star-0\"></span><span class=\"star display-inline-block star-rated\" data-automation-id=\"stars-star-1\"></span><span class=\"star display-inline-block star-rated\" data-automation-id=\"stars-star-2\"></span><span class=\"star display-inline-block star-rated\" data-automation-id=\"stars-star-3\"></span><span class=\"star display-inline-block star-empty\" data-automation-id=\"stars-star-4\"></span></span><span aria-hidden=\"true\" class=\"stars-reviews font-normal\" data-automation-id=\"stars-reviews\" tabindex=\"-1\"><span class=\"stars-reviews-count-node\">274</span></span></div></div></div></a></div></div></div>, <div class=\"rollback-result-wrapper\"><div class=\"item-tile\" data-tl-id=\"ItemTile-SearchResultsTile-3\"><div aria-hidden=\"false\" class=\"tile u-focusTile\" data-tile-id=\"3\" id=\"search_results_tile_3\" tabindex=\"-1\"><a class=\"display-block\" href=\"/ip/SAMSUNG-Galaxy-Tab-S7-128GB-Mystic-Black-Wi-Fi-S-Pen-Included-SM-T870NZKAXAR/936434562\" tabindex=\"0\"><div class=\"tile-flags\"><span class=\"flag rollback\" data-tl-id=\"flag-rollback\">Rollback</span></div><img alt=\"SAMSUNG Galaxy Tab S7 128GB Mystic Black (Wi-Fi) S Pen Included - SM-T870NZKAXAR\" aria-hidden=\"false\" class=\"tile-img\" itemprop=\"image\" loading=\"lazy\" src=\"//i5.walmartimages.com/asr/207c98f6-65df-4be1-b729-a992c9b3cdeb.1d8238b8ff72fb0a7880b1de786ff361.jpeg?odnWidth=282&amp;odnHeight=282&amp;odnBg=ffffff\" tabindex=\"-1\"/><div class=\"tile-content clearfix\" tabindex=\"-1\"><div aria-label=\"In Stock, Aisle M.8\" class=\"tile-in-store-info\">Aisle M.8<span class=\"spacer\">|</span><span class=\"avail in-stock\">In Stock</span></div><div aria-hidden=\"true\" class=\"tile-title\" data-tl-id=\"ItemTile-productName\"><div style=\"max-height:3em;overflow:hidden\">SAMSUNG Galaxy Tab S7 128GB Mystic Black (Wi-Fi) S Pen Included - SM-T870NZKAXAR</div></div><div class=\"tile-stars\"><div class=\"stars stars-small\"><span aria-label=\"4.7 Stars. 159 reviews.\" class=\"stars-container\" role=\"text\" tabindex=\"-1\"><span class=\"star display-inline-block star-rated\" data-automation-id=\"stars-star-0\"></span><span class=\"star display-inline-block star-rated\" data-automation-id=\"stars-star-1\"></span><span class=\"star display-inline-block star-rated\" data-automation-id=\"stars-star-2\"></span><span class=\"star display-inline-block star-rated\" data-automation-id=\"stars-star-3\"></span><span class=\"star display-inline-block star-partial\" data-automation-id=\"stars-star-4\"></span></span><span aria-hidden=\"true\" class=\"stars-reviews font-normal\" data-automation-id=\"stars-reviews\" tabindex=\"-1\"><span class=\"stars-reviews-count-node\">159</span></span></div></div><div aria-hidden=\"false\" class=\"tile-price\" tabindex=\"-1\"><span class=\"price\"><span class=\"visuallyhidden\">$566.00</span><span aria-hidden=\"true\" class=\"price-group\"><span class=\"price-currency\">$</span><span class=\"price-characteristic\">566</span><span class=\"price-mark\">.</span><span class=\"price-mantissa\">00</span></span></span></div></div></a></div></div></div>, <div class=\"rollback-result-wrapper\"><div class=\"item-tile\" data-tl-id=\"ItemTile-SearchResultsTile-4\"><div aria-hidden=\"false\" class=\"tile u-focusTile\" data-tile-id=\"4\" id=\"search_results_tile_4\" tabindex=\"-1\"><a class=\"display-block\" href=\"/ip/NETGEAR-EX6110-AC1200-WiFi-Wall-Plug-Range-Extender-and-Signal-Booster/360554298\" tabindex=\"0\"><div class=\"tile-flags\"><span class=\"flag rollback\" data-tl-id=\"flag-rollback\">Rollback</span></div><img alt=\"NETGEAR - EX6110 AC1200 WiFi Wall Plug Range Extender and Signal Booster\" aria-hidden=\"false\" class=\"tile-img\" itemprop=\"image\" loading=\"lazy\" src=\"//i5.walmartimages.com/asr/4f9c904b-3e03-4fd4-9b1b-edf13fbf06e1_1.bb52866fe6a7bc52b158058534f0c7f0.png?odnWidth=282&amp;odnHeight=282&amp;odnBg=ffffff\" tabindex=\"-1\"/><div class=\"tile-content clearfix\" tabindex=\"-1\"><div aria-label=\"In Stock, Aisle M.2\" class=\"tile-in-store-info\">Aisle M.2<span class=\"spacer\">|</span><span class=\"avail in-stock\">In Stock</span></div><div aria-hidden=\"true\" class=\"tile-title\" data-tl-id=\"ItemTile-productName\"><div style=\"max-height:3em;overflow:hidden\">NETGEAR - EX6110 AC1200 WiFi Wall Plug Range Extender and Signal Booster</div></div><div class=\"tile-stars\"><div class=\"stars stars-small\"><span aria-label=\"4.3 Stars. 472 reviews.\" class=\"stars-container\" role=\"text\" tabindex=\"-1\"><span class=\"star display-inline-block star-rated\" data-automation-id=\"stars-star-0\"></span><span class=\"star display-inline-block star-rated\" data-automation-id=\"stars-star-1\"></span><span class=\"star display-inline-block star-rated\" data-automation-id=\"stars-star-2\"></span><span class=\"star display-inline-block star-rated\" data-automation-id=\"stars-star-3\"></span><span class=\"star display-inline-block star-empty\" data-automation-id=\"stars-star-4\"></span></span><span aria-hidden=\"true\" class=\"stars-reviews font-normal\" data-automation-id=\"stars-reviews\" tabindex=\"-1\"><span class=\"stars-reviews-count-node\">472</span></span></div></div></div></a></div></div></div>, <div class=\"rollback-result-wrapper\"><div class=\"item-tile\" data-tl-id=\"ItemTile-SearchResultsTile-5\"><div aria-hidden=\"false\" class=\"tile u-focusTile\" data-tile-id=\"5\" id=\"search_results_tile_5\" tabindex=\"-1\"><a class=\"display-block\" href=\"/ip/Straight-Talk-Motorola-E-32GB-Midnight-Blue-Prepaid-Smartphone/660374224\" tabindex=\"0\"><div class=\"tile-flags\"><span class=\"flag rollback\" data-tl-id=\"flag-rollback\">Rollback</span></div><img alt=\"Straight Talk Motorola E, 32GB, Midnight Blue - Prepaid Smartphone\" aria-hidden=\"false\" class=\"tile-img\" itemprop=\"image\" loading=\"lazy\" src=\"//i5.walmartimages.com/asr/3443224c-9ab9-42f4-bf40-379e118912d4.8a709a2a4d83c00cb05e1ffe048c4c90.jpeg?odnWidth=282&amp;odnHeight=282&amp;odnBg=ffffff\" tabindex=\"-1\"/><div class=\"tile-content clearfix\" tabindex=\"-1\"><div aria-label=\"In Stock, Aisle M.5\" class=\"tile-in-store-info\">Aisle M.5<span class=\"spacer\">|</span><span class=\"avail in-stock\">In Stock</span></div><div aria-hidden=\"true\" class=\"tile-title\" data-tl-id=\"ItemTile-productName\"><div style=\"max-height:3em;overflow:hidden\">Straight Talk Motorola E, 32GB, Midnight Blue - Prepaid Smartphone</div></div><div class=\"tile-stars\"><div class=\"stars stars-small\"><span aria-label=\"4.2 Stars. 477 reviews.\" class=\"stars-container\" role=\"text\" tabindex=\"-1\"><span class=\"star display-inline-block star-rated\" data-automation-id=\"stars-star-0\"></span><span class=\"star display-inline-block star-rated\" data-automation-id=\"stars-star-1\"></span><span class=\"star display-inline-block star-rated\" data-automation-id=\"stars-star-2\"></span><span class=\"star display-inline-block star-rated\" data-automation-id=\"stars-star-3\"></span><span class=\"star display-inline-block star-empty\" data-automation-id=\"stars-star-4\"></span></span><span aria-hidden=\"true\" class=\"stars-reviews font-normal\" data-automation-id=\"stars-reviews\" tabindex=\"-1\"><span class=\"stars-reviews-count-node\">477</span></span></div></div><div aria-hidden=\"false\" class=\"tile-price\" tabindex=\"-1\"><span class=\"price\"><span class=\"visuallyhidden\">$49.00</span><span aria-hidden=\"true\" class=\"price-group\"><span class=\"price-currency\">$</span><span class=\"price-characteristic\">49</span><span class=\"price-mark\">.</span><span class=\"price-mantissa\">00</span></span></span></div></div></a></div></div></div>, <div class=\"rollback-result-wrapper\"><div class=\"item-tile\" data-tl-id=\"ItemTile-SearchResultsTile-6\"><div aria-hidden=\"false\" class=\"tile u-focusTile\" data-tile-id=\"6\" id=\"search_results_tile_6\" tabindex=\"-1\"><a class=\"display-block\" href=\"/ip/Merkury-Innovations-A21-Smart-Multicolor-LED-Bulb-75W-Dimmable-2-Pack/669037420\" tabindex=\"0\"><div class=\"tile-flags\"><span class=\"flag rollback\" data-tl-id=\"flag-rollback\">Rollback</span></div><img alt=\"Merkury Innovations A21 Smart Multicolor LED Bulb, 75W, Dimmable, 2-Pack\" aria-hidden=\"false\" class=\"tile-img\" itemprop=\"image\" loading=\"lazy\" src=\"//i5.walmartimages.com/asr/47d08287-a0cb-4800-9726-e955ed6d4ace_1.b70953938e741566e3df5c6c0e0106ad.jpeg?odnWidth=282&amp;odnHeight=282&amp;odnBg=ffffff\" tabindex=\"-1\"/><div class=\"tile-content clearfix\" tabindex=\"-1\"><div aria-label=\"In Stock, Aisle M.3\" class=\"tile-in-store-info\">Aisle M.3<span class=\"spacer\">|</span><span class=\"avail in-stock\">In Stock</span></div><div aria-hidden=\"true\" class=\"tile-title\" data-tl-id=\"ItemTile-productName\"><div style=\"max-height:3em;overflow:hidden\">Merkury Innovations A21 Smart Multicolor LED Bulb, 75W, Dimmable, 2-Pack</div></div><div class=\"tile-stars\"><div class=\"stars stars-small\"><span aria-label=\"4.0 Stars. 534 reviews.\" class=\"stars-container\" role=\"text\" tabindex=\"-1\"><span class=\"star display-inline-block star-rated\" data-automation-id=\"stars-star-0\"></span><span class=\"star display-inline-block star-rated\" data-automation-id=\"stars-star-1\"></span><span class=\"star display-inline-block star-rated\" data-automation-id=\"stars-star-2\"></span><span class=\"star display-inline-block star-rated\" data-automation-id=\"stars-star-3\"></span><span class=\"star display-inline-block star-empty\" data-automation-id=\"stars-star-4\"></span></span><span aria-hidden=\"true\" class=\"stars-reviews font-normal\" data-automation-id=\"stars-reviews\" tabindex=\"-1\"><span class=\"stars-reviews-count-node\">534</span></span></div></div><div aria-hidden=\"false\" class=\"tile-price\" tabindex=\"-1\"><span class=\"price\"><span class=\"visuallyhidden\">$15.88</span><span aria-hidden=\"true\" class=\"price-group\"><span class=\"price-currency\">$</span><span class=\"price-characteristic\">15</span><span class=\"price-mark\">.</span><span class=\"price-mantissa\">88</span></span></span></div></div></a></div></div></div>, <div class=\"rollback-result-wrapper\"><div class=\"item-tile\" data-tl-id=\"ItemTile-SearchResultsTile-7\"><div aria-hidden=\"false\" class=\"tile u-focusTile\" data-tile-id=\"7\" id=\"search_results_tile_7\" tabindex=\"-1\"><a class=\"display-block\" href=\"/ip/NETGEAR-Nighthawk-RAX35-AX3000-WiFi-6-Router/760226420\" tabindex=\"0\"><div class=\"tile-flags\"><span class=\"flag rollback\" data-tl-id=\"flag-rollback\">Rollback</span></div><img alt=\"NETGEAR - Nighthawk RAX35 AX3000 WiFi 6 Router\" aria-hidden=\"false\" class=\"tile-img\" itemprop=\"image\" loading=\"lazy\" src=\"//i5.walmartimages.com/asr/a0db0732-eeca-4fac-8532-20acf3df2f6e.171095d77e78a01732414e7d3d26f559.png?odnWidth=282&amp;odnHeight=282&amp;odnBg=ffffff\" tabindex=\"-1\"/><div class=\"tile-content clearfix\" tabindex=\"-1\"><div class=\"tile-in-store-info availability-unknown\">Availability unknown</div><div aria-hidden=\"true\" class=\"tile-title\" data-tl-id=\"ItemTile-productName\"><div style=\"max-height:3em;overflow:hidden\">NETGEAR - Nighthawk RAX35 AX3000 WiFi 6 Router</div></div><div class=\"tile-stars\"><div class=\"stars stars-small\"><span aria-label=\"4.1 Stars. 1271 reviews.\" class=\"stars-container\" role=\"text\" tabindex=\"-1\"><span class=\"star display-inline-block star-rated\" data-automation-id=\"stars-star-0\"></span><span class=\"star display-inline-block star-rated\" data-automation-id=\"stars-star-1\"></span><span class=\"star display-inline-block star-rated\" data-automation-id=\"stars-star-2\"></span><span class=\"star display-inline-block star-rated\" data-automation-id=\"stars-star-3\"></span><span class=\"star display-inline-block star-empty\" data-automation-id=\"stars-star-4\"></span></span><span aria-hidden=\"true\" class=\"stars-reviews font-normal\" data-automation-id=\"stars-reviews\" tabindex=\"-1\"><span class=\"stars-reviews-count-node\">1271</span></span></div></div></div></a></div></div></div>, <div class=\"rollback-result-wrapper\"><div class=\"item-tile\" data-tl-id=\"ItemTile-SearchResultsTile-8\"><div aria-hidden=\"false\" class=\"tile u-focusTile\" data-tile-id=\"8\" id=\"search_results_tile_8\" tabindex=\"-1\"><a class=\"display-block\" href=\"/ip/Roku-Express-Streaming-Media-Player/799113308\" tabindex=\"0\"><div class=\"tile-flags\"><span class=\"flag rollback\" data-tl-id=\"flag-rollback\">Rollback</span></div><img alt=\"Roku Express+ Streaming Media Player\" aria-hidden=\"false\" class=\"tile-img\" itemprop=\"image\" loading=\"lazy\" src=\"//i5.walmartimages.com/asr/a4e3c988-2f3a-4ce2-b7bd-8df8bc63a25c.6bb34fd8083d34ab06f7d8c5d4b3c538.png?odnWidth=282&amp;odnHeight=282&amp;odnBg=ffffff\" tabindex=\"-1\"/><div class=\"tile-content clearfix\" tabindex=\"-1\"><div class=\"tile-in-store-info availability-unknown\">Availability unknown</div><div aria-hidden=\"true\" class=\"tile-title\" data-tl-id=\"ItemTile-productName\"><div style=\"max-height:3em;overflow:hidden\">Roku Express+ Streaming Media Player</div></div><div class=\"tile-stars\"><div class=\"stars stars-small\"><span aria-label=\"4.7 Stars. 1206 reviews.\" class=\"stars-container\" role=\"text\" tabindex=\"-1\"><span class=\"star display-inline-block star-rated\" data-automation-id=\"stars-star-0\"></span><span class=\"star display-inline-block star-rated\" data-automation-id=\"stars-star-1\"></span><span class=\"star display-inline-block star-rated\" data-automation-id=\"stars-star-2\"></span><span class=\"star display-inline-block star-rated\" data-automation-id=\"stars-star-3\"></span><span class=\"star display-inline-block star-partial\" data-automation-id=\"stars-star-4\"></span></span><span aria-hidden=\"true\" class=\"stars-reviews font-normal\" data-automation-id=\"stars-reviews\" tabindex=\"-1\"><span class=\"stars-reviews-count-node\">1206</span></span></div></div></div></a></div></div></div>, <div class=\"rollback-result-wrapper\"><div class=\"item-tile\" data-tl-id=\"ItemTile-SearchResultsTile-9\"><div aria-hidden=\"false\" class=\"tile u-focusTile\" data-tile-id=\"9\" id=\"search_results_tile_9\" tabindex=\"-1\"><a class=\"display-block\" href=\"/ip/NETGEAR-Nighthawk-R7450-AC2600-Smart-WiFi-Router/222659115\" tabindex=\"0\"><div class=\"tile-flags\"><span class=\"flag rollback\" data-tl-id=\"flag-rollback\">Rollback</span></div><img alt=\"NETGEAR - Nighthawk R7450 AC2600 Smart WiFi Router\" aria-hidden=\"false\" class=\"tile-img\" itemprop=\"image\" loading=\"lazy\" src=\"//i5.walmartimages.com/asr/8a7d06ca-8f36-48b5-b915-bc756a76e3d7.dd5efcc80a833b3c9a3e387189e1feb2.png?odnWidth=282&amp;odnHeight=282&amp;odnBg=ffffff\" tabindex=\"-1\"/><div class=\"tile-content clearfix\" tabindex=\"-1\"><div aria-label=\"In Stock, Aisle M.2\" class=\"tile-in-store-info\">Aisle M.2<span class=\"spacer\">|</span><span class=\"avail in-stock\">In Stock</span></div><div aria-hidden=\"true\" class=\"tile-title\" data-tl-id=\"ItemTile-productName\"><div style=\"max-height:3em;overflow:hidden\">NETGEAR - Nighthawk R7450 AC2600 Smart WiFi Router</div></div><div class=\"tile-stars\"><div class=\"stars stars-small\"><span aria-label=\"4.8 Stars. 1097 reviews.\" class=\"stars-container\" role=\"text\" tabindex=\"-1\"><span class=\"star display-inline-block star-rated\" data-automation-id=\"stars-star-0\"></span><span class=\"star display-inline-block star-rated\" data-automation-id=\"stars-star-1\"></span><span class=\"star display-inline-block star-rated\" data-automation-id=\"stars-star-2\"></span><span class=\"star display-inline-block star-rated\" data-automation-id=\"stars-star-3\"></span><span class=\"star display-inline-block star-partial\" data-automation-id=\"stars-star-4\"></span></span><span aria-hidden=\"true\" class=\"stars-reviews font-normal\" data-automation-id=\"stars-reviews\" tabindex=\"-1\"><span class=\"stars-reviews-count-node\">1097</span></span></div></div><div aria-hidden=\"false\" class=\"tile-price\" tabindex=\"-1\"><span class=\"price\"><span class=\"visuallyhidden\">$139.00</span><span aria-hidden=\"true\" class=\"price-group\"><span class=\"price-currency\">$</span><span class=\"price-characteristic\">139</span><span class=\"price-mark\">.</span><span class=\"price-mantissa\">00</span></span></span></div></div></a></div></div></div>]\n"
     ]
    }
   ],
   "source": [
    "web_html = requests.get('https://www.walmart.com/store/1991-bloomington-in/electronics').text\n",
    "soup = BeautifulSoup(web_html, 'lxml')\n",
    "rollbacks = soup.find_all('div', class_ = 'rollback-result-wrapper')\n",
    "print(rollbacks)"
   ]
  },
  {
   "cell_type": "code",
   "execution_count": 34,
   "metadata": {},
   "outputs": [
    {
     "ename": "AttributeError",
     "evalue": "ResultSet object has no attribute 'find'. You're probably treating a list of items like a single item. Did you call find_all() when you meant to call find()?",
     "output_type": "error",
     "traceback": [
      "\u001b[0;31m---------------------------------------------------------------------------\u001b[0m",
      "\u001b[0;31mAttributeError\u001b[0m                            Traceback (most recent call last)",
      "\u001b[0;32m<ipython-input-34-1af86a0d5868>\u001b[0m in \u001b[0;36m<module>\u001b[0;34m\u001b[0m\n\u001b[0;32m----> 1\u001b[0;31m \u001b[0mproduct_name\u001b[0m \u001b[0;34m=\u001b[0m \u001b[0mrollback\u001b[0m\u001b[0;34m.\u001b[0m\u001b[0mfind\u001b[0m\u001b[0;34m(\u001b[0m\u001b[0;34m'div'\u001b[0m\u001b[0;34m,\u001b[0m \u001b[0mstyle\u001b[0m \u001b[0;34m=\u001b[0m \u001b[0;34m'max-height:3em;overflow:hidden'\u001b[0m\u001b[0;34m)\u001b[0m\u001b[0;34m.\u001b[0m\u001b[0mtext\u001b[0m\u001b[0;34m\u001b[0m\u001b[0;34m\u001b[0m\u001b[0m\n\u001b[0m\u001b[1;32m      2\u001b[0m \u001b[0mproduct_price\u001b[0m \u001b[0;34m=\u001b[0m \u001b[0mrollback\u001b[0m\u001b[0;34m.\u001b[0m\u001b[0mfind_all\u001b[0m\u001b[0;34m(\u001b[0m\u001b[0;34m'span'\u001b[0m\u001b[0;34m,\u001b[0m \u001b[0mclass_\u001b[0m \u001b[0;34m=\u001b[0m \u001b[0;34m'price-characteristic'\u001b[0m\u001b[0;34m)\u001b[0m\u001b[0;34m.\u001b[0m\u001b[0mtext\u001b[0m\u001b[0;34m\u001b[0m\u001b[0;34m\u001b[0m\u001b[0m\n\u001b[1;32m      3\u001b[0m \u001b[0mprint\u001b[0m\u001b[0;34m(\u001b[0m\u001b[0mproduct_name\u001b[0m\u001b[0;34m)\u001b[0m\u001b[0;34m\u001b[0m\u001b[0;34m\u001b[0m\u001b[0m\n\u001b[1;32m      4\u001b[0m \u001b[0mprint\u001b[0m\u001b[0;34m(\u001b[0m\u001b[0mproduct_price\u001b[0m\u001b[0;34m)\u001b[0m\u001b[0;34m\u001b[0m\u001b[0;34m\u001b[0m\u001b[0m\n",
      "\u001b[0;32m~/anaconda3/lib/python3.7/site-packages/bs4/element.py\u001b[0m in \u001b[0;36m__getattr__\u001b[0;34m(self, key)\u001b[0m\n\u001b[1;32m   1618\u001b[0m     \u001b[0;32mdef\u001b[0m \u001b[0m__getattr__\u001b[0m\u001b[0;34m(\u001b[0m\u001b[0mself\u001b[0m\u001b[0;34m,\u001b[0m \u001b[0mkey\u001b[0m\u001b[0;34m)\u001b[0m\u001b[0;34m:\u001b[0m\u001b[0;34m\u001b[0m\u001b[0;34m\u001b[0m\u001b[0m\n\u001b[1;32m   1619\u001b[0m         raise AttributeError(\n\u001b[0;32m-> 1620\u001b[0;31m             \u001b[0;34m\"ResultSet object has no attribute '%s'. You're probably treating a list of items like a single item. Did you call find_all() when you meant to call find()?\"\u001b[0m \u001b[0;34m%\u001b[0m \u001b[0mkey\u001b[0m\u001b[0;34m\u001b[0m\u001b[0;34m\u001b[0m\u001b[0m\n\u001b[0m\u001b[1;32m   1621\u001b[0m         )\n",
      "\u001b[0;31mAttributeError\u001b[0m: ResultSet object has no attribute 'find'. You're probably treating a list of items like a single item. Did you call find_all() when you meant to call find()?"
     ]
    }
   ],
   "source": [
    "product_name = rollback.find_all('div', style = 'max-height:3em;overflow:hidden').text\n",
    "product_price = rollback.find_all('span', class_ = 'price-characteristic').text\n",
    "print(product_name)\n",
    "print(product_price)"
   ]
  },
  {
   "cell_type": "code",
   "execution_count": 49,
   "metadata": {},
   "outputs": [
    {
     "name": "stdout",
     "output_type": "stream",
     "text": [
      "Apple AirPods Pro\n",
      "197\n",
      "onn. 8\" Tablet Pro, 32GB Storage, 2GB RAM, Android 10, 2.0 GHz Octa-Core Processor, HD Display\n",
      "89\n",
      "Roku Premiere | HD/4K/HDR Streaming Media Player, Simple Remote and Premium HDMI Cable\n",
      "34\n",
      "Straight Talk Motorola E, 32GB, Midnight Blue - Prepaid Smartphone\n",
      "49\n",
      "Merkury Innovations A21 Smart Multicolor LED Bulb, 75W, Dimmable, 2-Pack\n",
      "15\n",
      "NETGEAR - Nighthawk R7450 AC2600 Smart WiFi Router\n",
      "139\n",
      "Boost iPhone SE 2 Black 64GB\n",
      "249\n",
      "Merkury Innovations 1080p Smart Wi-Fi Camera with Voice Control  Requires 2.4 GHz Wi-Fi\n",
      "24\n"
     ]
    }
   ],
   "source": [
    "for products in rollbacks:\n",
    "    product_name = products.find('div', style = 'max-height:3em;overflow:hidden').text\n",
    "    product_price = products.find('span', class_ = 'price-characteristic')\n",
    "    if (products.find('span', class_ = 'price-characteristic')):\n",
    "        print(product_name)\n",
    "        print(product_price.text)"
   ]
  },
  {
   "cell_type": "code",
   "execution_count": 68,
   "metadata": {},
   "outputs": [],
   "source": [
    "def walmart_rollback_electronics(store_code):\n",
    "    #Currently only for electronics\n",
    "    #Need: Furniture, Hardware, Fashion, Toys, and Patio&Garden\n",
    "    departments = ['furniture', 'hardware', 'fashion', 'electronics', 'toys', 'patio-garden']\n",
    "    records = []\n",
    "    for department in departments:\n",
    "        url = 'https://www.walmart.com/store/'+ str(store_code) + '/' + department\n",
    "        web_html = requests.get(url).text\n",
    "        soup = BeautifulSoup(web_html, 'lxml')\n",
    "    \n",
    "        rollbacks = soup.find_all('div', class_ = 'rollback-result-wrapper')\n",
    "        \n",
    "        #print(department)\n",
    "        \n",
    "        for products in rollbacks:\n",
    "            product_name = products.find('div', style = 'max-height:3em;overflow:hidden').text\n",
    "            product_price = products.find('span', class_ = 'price-characteristic')\n",
    "            if (products.find('span', class_ = 'price-characteristic')):\n",
    "                #print(product_name)\n",
    "                #print(product_price.text)\n",
    "                records.append((product_name, product_price.text))\n",
    "    return records"
   ]
  },
  {
   "cell_type": "code",
   "execution_count": 69,
   "metadata": {},
   "outputs": [
    {
     "name": "stdout",
     "output_type": "stream",
     "text": [
      "furniture\n",
      "hardware\n",
      "fashion\n",
      "electronics\n",
      "toys\n",
      "patio-garden\n",
      "[('HART 40-Volt Cordless 12-inch String Trimmer and Blower Combo', '158'), ('HART PowerFit Edger Attachment (for Attachment Capable String Trimmer)', '67'), ('Phillips 50w Indoor Bright White Flood Light', '6'), ('HART 8 Gallon 6.0 Peak HP Stainless Steel Wet/Dry Vacuum', '66'), ('Philips PAR38 Medium Indoor/Outdoor LED Floodlight Light Bulb', '8'), ('Philips PAR38 Medium Indoor/Outdoor LED Floodlight Light Bulb', '12'), ('Philips Classic Glass MR16 GU5.3 LED Floodlight Light Bulb', '12'), ('PUR Ultimate 11 Cup Pitcher Water Filter with Lead Removal, PPT111W, Blue', '29'), ('PUR Basic Pitcher Water Filter 7 Cup, PPT700W, Blue,White', '14'), ('SYLVANIA LED Reduced Eye Strain BR30 Light Bulb, 65W Equivalent, Medium Base, Dimmable 2700K Soft White, 4 pack', '7'), ('Casio Baby G-shock 200m Wr World Time', '49'), ('Verizon Wireless ZTE Blade Vantage 2 16GB Prepaid Smartphone', '29'), ('Apple AirPods Pro', '197'), ('onn. 8\" Tablet Pro, 32GB Storage, 2GB RAM, Android 10, 2.0 GHz Octa-Core Processor, HD Display', '89'), ('Roku Premiere | HD/4K/HDR Streaming Media Player, Simple Remote and Premium HDMI Cable', '34'), ('Straight Talk Motorola E, 32GB, Midnight Blue - Prepaid Smartphone', '49'), ('NETGEAR - Nighthawk R7450 AC2600 Smart WiFi Router', '139'), ('Boost iPhone SE 2 Black 64GB', '249'), ('Blueys Family and Friends 2.5\" Figures - 8 Pack', '19'), ('Subway Surfers - Sub Surf Spray Crew - Each Sold Separately Vinyl Figure (4\")', '4'), ('Little Tikes 2-In-1 Snug And Secure Swing - Blue', '23'), ('Cave Club Tella Doll (8 - 10-Inch) Prehistoric Fashion Doll with Dinosaur Pet', '7'), ('Cave Club Roaralai Doll (8 - 10-Inch) Prehistoric Fashion Doll with Dinosaur Pet', '7'), ('Kinetic Sand Beach Sand Kingdom Playset with 3lbs of Beach Sand, for Ages 3 and up', '14'), ('Love, Diana Birthday, 6\" Doll', '7'), ('Cave Club Emberly Doll (8 - 10-Inch) Prehistoric Fashion Doll with Dinosaur Pet', '7'), ('Subway Surfers Kustom Kings - Each Sold Separately', '5'), ('Roundup Ready-To-Use Weed & Grass Killer III with Comfort Wand, 1.33 gal.', '17'), ('HART 40-Volt Cordless 12-inch String Trimmer and Blower Combo', '158'), ('Ortho Home Defense Insect Killer for Indoor Perimeter 2 (With Comfort Wand), 1.33 Gal.', '13'), ('HART PowerFit Edger Attachment (for Attachment Capable String Trimmer)', '67'), (\"Miracle-Gro Shake 'N Feed Tomato, Fruit and Vegetable Plant Food 4.5lb\", '10'), (\"Miracle-Gro Shake 'N Feed Rose & Bloom Plant Food Display\", '10'), ('Spectracide Weed & Grass Killer, Ready-to-Use, 1-Gallon', '6')]\n"
     ]
    }
   ],
   "source": [
    "print(walmart_rollback_electronics(1618))"
   ]
  }
 ],
 "metadata": {
  "kernelspec": {
   "display_name": "Python 3",
   "language": "python",
   "name": "python3"
  },
  "language_info": {
   "codemirror_mode": {
    "name": "ipython",
    "version": 3
   },
   "file_extension": ".py",
   "mimetype": "text/x-python",
   "name": "python",
   "nbconvert_exporter": "python",
   "pygments_lexer": "ipython3",
   "version": "3.7.3"
  }
 },
 "nbformat": 4,
 "nbformat_minor": 2
}
