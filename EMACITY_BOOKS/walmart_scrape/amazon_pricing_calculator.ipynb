{
 "cells": [
  {
   "cell_type": "code",
   "execution_count": 2,
   "metadata": {},
   "outputs": [
    {
     "data": {
      "text/plain": [
       "2.8845"
      ]
     },
     "execution_count": 2,
     "metadata": {},
     "output_type": "execute_result"
    }
   ],
   "source": [
    "my_price = 4.97\n",
    "amazon_price = 9.59\n",
    "amazon_seller_fee = .99\n",
    "everything_else_fee = .15\n",
    "total_cost = my_price + my_price*everything_else_fee + amazon_seller_fee\n",
    "profit = amazon_price-total_cost\n",
    "profit"
   ]
  },
  {
   "cell_type": "code",
   "execution_count": 19,
   "metadata": {},
   "outputs": [],
   "source": [
    "def amazon_pricing(category, my_price, amazon_price):\n",
    "    amazon_seller_fee = .99\n",
    "    if (my_price * category < .30):\n",
    "        fee = .30\n",
    "    else:\n",
    "        fee = my_price * category\n",
    "    total_cost = my_price + fee + amazon_seller_fee\n",
    "    profit = amazon_price-total_cost\n",
    "    return profit"
   ]
  },
  {
   "cell_type": "code",
   "execution_count": 25,
   "metadata": {},
   "outputs": [
    {
     "data": {
      "text/plain": [
       "0.3400000000000001"
      ]
     },
     "execution_count": 25,
     "metadata": {},
     "output_type": "execute_result"
    }
   ],
   "source": [
    "amazon_pricing(.15, .34, 1.97)"
   ]
  },
  {
   "cell_type": "code",
   "execution_count": null,
   "metadata": {},
   "outputs": [],
   "source": [
    "def price_item(category, my_price, expected_profit):\n",
    "    amazon_price = expected_profit + my_price\n",
    "    before_shipping = amazon_pricing(category, my_price, amazon_price)\n",
    "    "
   ]
  }
 ],
 "metadata": {
  "kernelspec": {
   "display_name": "Python 3",
   "language": "python",
   "name": "python3"
  },
  "language_info": {
   "codemirror_mode": {
    "name": "ipython",
    "version": 3
   },
   "file_extension": ".py",
   "mimetype": "text/x-python",
   "name": "python",
   "nbconvert_exporter": "python",
   "pygments_lexer": "ipython3",
   "version": "3.7.3"
  }
 },
 "nbformat": 4,
 "nbformat_minor": 2
}
