{
 "cells": [
  {
   "cell_type": "code",
   "execution_count": 2,
   "metadata": {},
   "outputs": [],
   "source": [
    "import csv\n",
    "from bs4 import BeautifulSoup\n",
    "import requests\n",
    "from selenium import webdriver"
   ]
  },
  {
   "cell_type": "code",
   "execution_count": 2,
   "metadata": {},
   "outputs": [],
   "source": [
    "def generate_record( item ):\n",
    "    try:\n",
    "        title = item.find('div', class_ = 'search-result-product-title gridview').text\n",
    "        if 'Product Title' in title:\n",
    "            title = title[13:]\n",
    "    except AttributeError:\n",
    "        return\n",
    "        \n",
    "    try:\n",
    "        price = item.find('span', class_ = 'price-group').text\n",
    "    except AttributeError:\n",
    "        price = 0.0\n",
    "        \n",
    "    if(item.find('span', class_='flag-angle__content')):\n",
    "        special = item.find('span', class_='flag-angle__content').text\n",
    "        if(special == 'Reduced Price' or special == 'Clearance' or special == 'Rollback'):\n",
    "            sale = special\n",
    "            result = (title, price, sale)\n",
    "            return result\n",
    "\n",
    "def search_and_write(items):\n",
    "    records = []\n",
    "    dropship_products = []\n",
    "    driver = webdriver.Firefox(executable_path=r'/Users/michael/Downloads/geckodriver')\n",
    "    categories = ['trampolines/4125_1224931_5230']\n",
    "    \n",
    "    for category in categories:\n",
    "        for i in range(25):\n",
    "            url_trampoline = 'https://www.walmart.com/browse/toys/' + category + '?page=' + str(i+1)\n",
    "            url = 'https://www.walmart.com/browse/office-supplies/school-supplies/1229749_1086045?page=' + str(i+1)\n",
    "            driver.get(url)\n",
    "            soup = BeautifulSoup(driver.page_source, 'html.parser')\n",
    "            results = soup.find_all('div', {'data-type': 'items'})\n",
    "            \n",
    "            for item in results:\n",
    "                record = generate_record(item)\n",
    "                if record:\n",
    "                    records.append(record)\n",
    "        \n",
    "    driver.close()\n",
    "    \n",
    "    #Now I want to search the sku to gather the sku of items\n",
    "    for record in records:\n",
    "        url = \n",
    "    \n",
    "    with open('results_' + items + '.csv', 'w', newline='', encoding='utf-8') as f:\n",
    "        writer = csv.writer(f)\n",
    "        writer.writerow(['Name', 'Price', 'Sale'])\n",
    "        writer.writerows(records)"
   ]
  },
  {
   "cell_type": "code",
   "execution_count": 3,
   "metadata": {},
   "outputs": [],
   "source": [
    "def walmart_rollbacks(store_code):\n",
    "    '''\n",
    "    Scrapes Walmart.com to find the different items on rollback and returns a tuple of the product name and price.\n",
    "    Parameters:\n",
    "    -----------------------------------------------\n",
    "    store_code: integer of the location of walmart based on given zipcode.\n",
    "    '''\n",
    "    \n",
    "    departments = ['furniture', 'hardware', 'fashion', 'electronics', 'toys', 'patio-garden', 'video-game-store',\n",
    "                   'baby-store', 'kitchen-supply-store', 'cell-phone-store', 'pet-store', 'beauty-supply', \n",
    "                   'lighting-store', 'office-supply-store', 'womens-clothing-store', 'art-supply-store', \n",
    "                   'party-supply', 'school-supply-store', 'yarn-store', 'perfume-store', 'sewing-machine-store', \n",
    "                   'electrical-supply', 'candy-store', 'watch-store', 'paint-store', 'plus-size-clothing-store',\n",
    "                   'banking-supply-store', 'fashion-accessories-store', 'spice-store', 'game-store',\n",
    "                   'bathroom-supply-store', 'home-theatre-store', 'jewelry-store', 'shoe-store', 'camera-store',\n",
    "                   'kids-clothing-store', 'vitamin-store', 'kids-furniture-store', 'bbq-store', 'bedding-store',\n",
    "                   'luggage-store', 'mens-clothing-store', 'book-store', 'bike-shop', 'sporting-goods-store']\n",
    "    records = []\n",
    "    \n",
    "    for department in departments:\n",
    "        url = 'https://www.walmart.com/store/'+ str(store_code) + '/' + department\n",
    "        web_html = requests.get(url).text\n",
    "        soup = BeautifulSoup(web_html, 'lxml')\n",
    "    \n",
    "        rollbacks = soup.find_all('div', class_ = 'rollback-result-wrapper')\n",
    "        \n",
    "        for products in rollbacks:\n",
    "            product_name = products.find('div', style = 'max-height:3em;overflow:hidden').text\n",
    "            product_price = products.find('span', class_ = 'price-characteristic')\n",
    "            if (product_price):\n",
    "                records.append((product_name, product_price.text))\n",
    "                \n",
    "    return records"
   ]
  },
  {
   "cell_type": "code",
   "execution_count": null,
   "metadata": {},
   "outputs": [],
   "source": [
    "walmart_rollbacks(2198)"
   ]
  }
 ],
 "metadata": {
  "kernelspec": {
   "display_name": "Python 3",
   "language": "python",
   "name": "python3"
  },
  "language_info": {
   "codemirror_mode": {
    "name": "ipython",
    "version": 3
   },
   "file_extension": ".py",
   "mimetype": "text/x-python",
   "name": "python",
   "nbconvert_exporter": "python",
   "pygments_lexer": "ipython3",
   "version": "3.7.3"
  }
 },
 "nbformat": 4,
 "nbformat_minor": 2
}
