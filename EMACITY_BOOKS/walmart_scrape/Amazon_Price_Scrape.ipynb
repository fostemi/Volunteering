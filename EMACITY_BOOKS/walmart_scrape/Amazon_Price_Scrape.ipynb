{
 "cells": [
  {
   "cell_type": "markdown",
   "metadata": {},
   "source": [
    "# Amazon Web Scraper"
   ]
  },
  {
   "cell_type": "markdown",
   "metadata": {},
   "source": [
    "### Requirements"
   ]
  },
  {
   "cell_type": "markdown",
   "metadata": {},
   "source": [
    "- Beautiful Soup"
   ]
  },
  {
   "cell_type": "code",
   "execution_count": 41,
   "metadata": {},
   "outputs": [],
   "source": [
    "import csv\n",
    "from bs4 import BeautifulSoup\n",
    "import requests\n",
    "from selenium import webdriver"
   ]
  },
  {
   "cell_type": "markdown",
   "metadata": {},
   "source": [
    "## Start up the webdriver"
   ]
  },
  {
   "cell_type": "code",
   "execution_count": 47,
   "metadata": {},
   "outputs": [],
   "source": [
    "driver = webdriver.Firefox(executable_path=r'/Users/michael/Downloads/geckodriver')\n",
    "driver.get('https://www.amazon.com/s?k=tv&ref=nb_sb_noss')"
   ]
  },
  {
   "cell_type": "code",
   "execution_count": 48,
   "metadata": {},
   "outputs": [],
   "source": [
    "def get_url(search_term):\n",
    "    template = 'https://www.amazon.com/s?k={}&ref=nb_sb_noss'\n",
    "    search_term = search_term.replace(' ', '+')\n",
    "    return(template.format(search_term))"
   ]
  },
  {
   "cell_type": "code",
   "execution_count": 49,
   "metadata": {},
   "outputs": [
    {
     "data": {
      "text/plain": [
       "'https://www.amazon.com/s?k=tv&ref=nb_sb_noss'"
      ]
     },
     "execution_count": 49,
     "metadata": {},
     "output_type": "execute_result"
    }
   ],
   "source": [
    "get_url('tv')"
   ]
  },
  {
   "cell_type": "markdown",
   "metadata": {},
   "source": [
    "## Extract the collection"
   ]
  },
  {
   "cell_type": "code",
   "execution_count": 51,
   "metadata": {},
   "outputs": [],
   "source": [
    "soup = BeautifulSoup(driver.page_source, 'html.parser')"
   ]
  },
  {
   "cell_type": "code",
   "execution_count": 54,
   "metadata": {},
   "outputs": [],
   "source": [
    "results = soup.find_all('div', {'data-component-type': 's-search-result'})"
   ]
  },
  {
   "cell_type": "markdown",
   "metadata": {},
   "source": [
    "## Prototype the record"
   ]
  },
  {
   "cell_type": "code",
   "execution_count": 55,
   "metadata": {},
   "outputs": [],
   "source": [
    "item = results[0]"
   ]
  },
  {
   "cell_type": "code",
   "execution_count": 56,
   "metadata": {},
   "outputs": [],
   "source": [
    "atag = item.h2.a"
   ]
  },
  {
   "cell_type": "code",
   "execution_count": 60,
   "metadata": {},
   "outputs": [],
   "source": [
    "description = atag.text"
   ]
  },
  {
   "cell_type": "code",
   "execution_count": 59,
   "metadata": {},
   "outputs": [],
   "source": [
    "url = 'https://www.amazon.com' + atag.get('href')"
   ]
  },
  {
   "cell_type": "code",
   "execution_count": 61,
   "metadata": {},
   "outputs": [
    {
     "name": "stdout",
     "output_type": "stream",
     "text": [
      "$1,199.99\n"
     ]
    }
   ],
   "source": [
    "price_parent = item.find('span', class_ = 'a-price')\n",
    "price = price_parent.find('span', class_ = 'a-offscreen').text\n",
    "print(price)"
   ]
  },
  {
   "cell_type": "code",
   "execution_count": 62,
   "metadata": {},
   "outputs": [
    {
     "name": "stdout",
     "output_type": "stream",
     "text": [
      "$1,199.99\n"
     ]
    }
   ],
   "source": [
    "price = item.find('span', class_ = 'a-price').find('span', class_ = 'a-offscreen').text\n",
    "print(price)"
   ]
  },
  {
   "cell_type": "markdown",
   "metadata": {},
   "source": [
    "## Generalize the pattern"
   ]
  },
  {
   "cell_type": "code",
   "execution_count": 63,
   "metadata": {},
   "outputs": [],
   "source": [
    "def extract_record(item):\n",
    "    '''\n",
    "    Extract and return data from a single record.\n",
    "    Parameters:\n",
    "    ---------------------------------------------\n",
    "    item: one search result from the search term.\n",
    "    '''\n",
    "    \n",
    "    #description and url\n",
    "    atag = item.h2.a\n",
    "    description = atag.text\n",
    "    url = 'https://www.amazon.com' + atag.get('href')\n",
    "    \n",
    "    #Price\n",
    "    price = item.find('span', class_ = 'a-price').find('span', class_ = 'a-offscreen').text\n",
    "    \n",
    "    #Tuple of description, url, and price\n",
    "    results = (description, url, price)\n",
    "    return results"
   ]
  },
  {
   "cell_type": "code",
   "execution_count": 64,
   "metadata": {},
   "outputs": [
    {
     "ename": "AttributeError",
     "evalue": "'NoneType' object has no attribute 'find'",
     "output_type": "error",
     "traceback": [
      "\u001b[0;31m---------------------------------------------------------------------------\u001b[0m",
      "\u001b[0;31mAttributeError\u001b[0m                            Traceback (most recent call last)",
      "\u001b[0;32m<ipython-input-64-02bc5ad466fd>\u001b[0m in \u001b[0;36m<module>\u001b[0;34m\u001b[0m\n\u001b[1;32m      2\u001b[0m \u001b[0mresults\u001b[0m \u001b[0;34m=\u001b[0m \u001b[0mresults\u001b[0m \u001b[0;34m=\u001b[0m \u001b[0msoup\u001b[0m\u001b[0;34m.\u001b[0m\u001b[0mfind_all\u001b[0m\u001b[0;34m(\u001b[0m\u001b[0;34m'div'\u001b[0m\u001b[0;34m,\u001b[0m \u001b[0;34m{\u001b[0m\u001b[0;34m'data-component-type'\u001b[0m\u001b[0;34m:\u001b[0m \u001b[0;34m's-search-result'\u001b[0m\u001b[0;34m}\u001b[0m\u001b[0;34m)\u001b[0m\u001b[0;34m\u001b[0m\u001b[0;34m\u001b[0m\u001b[0m\n\u001b[1;32m      3\u001b[0m \u001b[0;32mfor\u001b[0m \u001b[0mitem\u001b[0m \u001b[0;32min\u001b[0m \u001b[0mresults\u001b[0m\u001b[0;34m:\u001b[0m\u001b[0;34m\u001b[0m\u001b[0;34m\u001b[0m\u001b[0m\n\u001b[0;32m----> 4\u001b[0;31m     \u001b[0mrecords\u001b[0m\u001b[0;34m.\u001b[0m\u001b[0mappend\u001b[0m\u001b[0;34m(\u001b[0m\u001b[0mextract_record\u001b[0m\u001b[0;34m(\u001b[0m\u001b[0mitem\u001b[0m\u001b[0;34m)\u001b[0m\u001b[0;34m)\u001b[0m\u001b[0;34m\u001b[0m\u001b[0;34m\u001b[0m\u001b[0m\n\u001b[0m\u001b[1;32m      5\u001b[0m \u001b[0;34m\u001b[0m\u001b[0m\n",
      "\u001b[0;32m<ipython-input-63-12a6f7d13520>\u001b[0m in \u001b[0;36mextract_record\u001b[0;34m(item)\u001b[0m\n\u001b[1;32m     13\u001b[0m \u001b[0;34m\u001b[0m\u001b[0m\n\u001b[1;32m     14\u001b[0m     \u001b[0;31m#Price\u001b[0m\u001b[0;34m\u001b[0m\u001b[0;34m\u001b[0m\u001b[0;34m\u001b[0m\u001b[0m\n\u001b[0;32m---> 15\u001b[0;31m     \u001b[0mprice\u001b[0m \u001b[0;34m=\u001b[0m \u001b[0mitem\u001b[0m\u001b[0;34m.\u001b[0m\u001b[0mfind\u001b[0m\u001b[0;34m(\u001b[0m\u001b[0;34m'span'\u001b[0m\u001b[0;34m,\u001b[0m \u001b[0mclass_\u001b[0m \u001b[0;34m=\u001b[0m \u001b[0;34m'a-price'\u001b[0m\u001b[0;34m)\u001b[0m\u001b[0;34m.\u001b[0m\u001b[0mfind\u001b[0m\u001b[0;34m(\u001b[0m\u001b[0;34m'span'\u001b[0m\u001b[0;34m,\u001b[0m \u001b[0mclass_\u001b[0m \u001b[0;34m=\u001b[0m \u001b[0;34m'a-offscreen'\u001b[0m\u001b[0;34m)\u001b[0m\u001b[0;34m.\u001b[0m\u001b[0mtext\u001b[0m\u001b[0;34m\u001b[0m\u001b[0;34m\u001b[0m\u001b[0m\n\u001b[0m\u001b[1;32m     16\u001b[0m \u001b[0;34m\u001b[0m\u001b[0m\n\u001b[1;32m     17\u001b[0m     \u001b[0;31m#Tuple of description, url, and price\u001b[0m\u001b[0;34m\u001b[0m\u001b[0;34m\u001b[0m\u001b[0;34m\u001b[0m\u001b[0m\n",
      "\u001b[0;31mAttributeError\u001b[0m: 'NoneType' object has no attribute 'find'"
     ]
    }
   ],
   "source": [
    "records = []\n",
    "results = results = soup.find_all('div', {'data-component-type': 's-search-result'})\n",
    "for item in results:\n",
    "    records.append(extract_record(item))\n",
    "    "
   ]
  },
  {
   "cell_type": "markdown",
   "metadata": {},
   "source": [
    "## Error Handling"
   ]
  },
  {
   "cell_type": "code",
   "execution_count": 66,
   "metadata": {},
   "outputs": [],
   "source": [
    "def extract_record(item):\n",
    "    '''\n",
    "    Extract and return data from a single record.\n",
    "    Parameters:\n",
    "    ---------------------------------------------\n",
    "    item: one search result from the search term.\n",
    "    '''\n",
    "    \n",
    "    #description and url\n",
    "    atag = item.h2.a\n",
    "    description = atag.text\n",
    "    url = 'https://www.amazon.com' + atag.get('href')\n",
    "    \n",
    "    #Price\n",
    "    try:\n",
    "        price = item.find('span', class_ = 'a-price').find('span', class_ = 'a-offscreen').text\n",
    "    except AttributeError:\n",
    "        return\n",
    "    \n",
    "    #Tuple of description, url, and price\n",
    "    results = (description, url, price)\n",
    "    return results"
   ]
  },
  {
   "cell_type": "code",
   "execution_count": 69,
   "metadata": {},
   "outputs": [],
   "source": [
    "records = []\n",
    "results = soup.find_all('div', {'data-component-type': 's-search-result'})\n",
    "for item in results:\n",
    "    record = extract_record(item)\n",
    "    if record:\n",
    "        records.append(record)"
   ]
  },
  {
   "cell_type": "markdown",
   "metadata": {},
   "source": [
    "## Putting it all together"
   ]
  },
  {
   "cell_type": "code",
   "execution_count": 75,
   "metadata": {},
   "outputs": [],
   "source": [
    "import csv\n",
    "from bs4 import BeautifulSoup\n",
    "import requests\n",
    "from selenium import webdriver\n",
    "\n",
    "def get_url(search_term):\n",
    "    '''\n",
    "    Creates correct format of url from a specific search term.\n",
    "    Parameters:\n",
    "    --------------------------------------------\n",
    "    search_term: string of product that is wanted to be searched.\n",
    "    '''\n",
    "    template = 'https://www.amazon.com/s?k={}&ref=nb_sb_noss'\n",
    "    search_term = search_term.replace(' ', '+')\n",
    "    return(template.format(search_term))\n",
    "\n",
    "def extract_record(item):\n",
    "    '''\n",
    "    Extract and return data from a single record.\n",
    "    Parameters:\n",
    "    ---------------------------------------------\n",
    "    item: one search result from the search term.\n",
    "    '''\n",
    "    \n",
    "    #description and url\n",
    "    atag = item.h2.a\n",
    "    description = atag.text\n",
    "    url = 'https://www.amazon.com' + atag.get('href')\n",
    "    \n",
    "    #Price\n",
    "    try:\n",
    "        price = item.find('span', class_ = 'a-price').find('span', class_ = 'a-offscreen').text\n",
    "    except AttributeError:\n",
    "        return\n",
    "    \n",
    "    #Tuple of description, url, and price\n",
    "    results = (description, url, price)\n",
    "    return results\n",
    "\n",
    "def find_amazon_prices(search_term):\n",
    "    '''\n",
    "    Finds the prices of a search term and returns their description and price.\n",
    "    Parameters:\n",
    "    ---------------------------------------------\n",
    "    search_term: string of product we will be searching the price for on amazon.\n",
    "    '''\n",
    "    \n",
    "    #start the driver\n",
    "    driver = webdriver.Firefox(executable_path=r'/Users/michael/Downloads/geckodriver')\n",
    "    \n",
    "    records = []\n",
    "    url = get_url(search_term)\n",
    "    \n",
    "    #Get the information from each item in the search\n",
    "    driver.get(url.format())\n",
    "    soup = BeautifulSoup(driver.page_source, 'html.parser')\n",
    "    results = soup.find_all('div', {'data-component-type': 's-search-result'})\n",
    "    for item in results:\n",
    "        record = extract_record(item)\n",
    "        if record:\n",
    "            records.append(record)\n",
    "    driver.close()\n",
    "    return records\n",
    "    #save data to something, right now a csv\n",
    "    "
   ]
  },
  {
   "cell_type": "code",
   "execution_count": 76,
   "metadata": {},
   "outputs": [
    {
     "name": "stdout",
     "output_type": "stream",
     "text": [
      "[('VIZIO 55-inch M-Series - Quantum 4K HDR Smart TV (54.5-inch diag) (M55Q7-H1, 2020) ', 'https://www.amazon.com/gp/slredirect/picassoRedirect.html/ref=pa_sp_atf_aps_sr_pg1_1?ie=UTF8&adId=A10174603VLJS3RXB87QQ&url=%2FVIZIO-55-inch-M-54-5-inch-M55Q7-H1%2Fdp%2FB08R7YVXT8%2Fref%3Dsr_1_1_sspa%3Fdchild%3D1%26keywords%3Dtv%26qid%3D1620942726%26sr%3D8-1-spons%26psc%3D1&qualifier=1620942726&id=2226181089429163&widgetName=sp_atf', '$499.99'), ('Toshiba 32LF221U21 32-inch Smart HD 720p TV - Fire TV Edition, Released 2020 ', 'https://www.amazon.com/gp/slredirect/picassoRedirect.html/ref=pa_sp_atf_aps_sr_pg1_1?ie=UTF8&adId=A01953861115659ZDUFJQ&url=%2FAll-New-Toshiba-32LF221U21-32-inch-Smart%2Fdp%2FB0872FYTWS%2Fref%3Dsr_1_2_sspa%3Fdchild%3D1%26keywords%3Dtv%26qid%3D1620942726%26sr%3D8-2-spons%26psc%3D1&qualifier=1620942726&id=2226181089429163&widgetName=sp_atf', '$199.99'), ('TCL 50-inch Class 4-Series 4K UHD Smart Roku LED TV - 50S435, 2021 Model ', 'https://www.amazon.com/TCL-4K-Smart-LED-50S435/dp/B08DHFX4FV/ref=sr_1_3?dchild=1&keywords=tv&qid=1620942726&sr=8-3', '$339.00'), ('TCL 32-inch 3-Series 720p Roku Smart TV - 32S335, 2021 Model ', 'https://www.amazon.com/TCL-32-720p-ROKU-Smart/dp/B088S3V3R4/ref=sr_1_4?dchild=1&keywords=tv&qid=1620942726&sr=8-4', '$158.00'), ('SAMSUNG 55-Inch Class Crystal UHD TU-8000 Series - 4K UHD HDR Smart TV with Alexa Built-in (UN55TU8000FXZA, 2020 Model) ', 'https://www.amazon.com/SAMSUNG-55-Inch-Crystal-TU-8000-Built/dp/B084JH43DJ/ref=sr_1_5?dchild=1&keywords=tv&qid=1620942726&sr=8-5', '$547.99'), ('TCL 50-inch Class 4-Series 4K UHD HDR Smart Android TV - 50S434, 2021 Model ', 'https://www.amazon.com/TCL-50-inch-Class-Smart-Android/dp/B08P4WP27K/ref=sr_1_6?dchild=1&keywords=tv&qid=1620942726&sr=8-6', '$348.00'), ('INSIGNIA NS-65DF710NA21 65-inch Smart 4K UHD - Fire TV Edition, Released 2020 ', 'https://www.amazon.com/gp/slredirect/picassoRedirect.html/ref=pa_sp_mtf_aps_sr_pg1_1?ie=UTF8&adId=A10333661AAWIVK30G1C4&url=%2FAll-New-Insignia-NS-65DF710NA21-65-inch-Smart%2Fdp%2FB08CVTKRJG%2Fref%3Dsr_1_7_sspa%3Fdchild%3D1%26keywords%3Dtv%26qid%3D1620942726%26sr%3D8-7-spons%26psc%3D1&qualifier=1620942726&id=2226181089429163&widgetName=sp_mtf', '$629.99'), ('Toshiba 43LF421U21 43-inch Smart HD 1080p TV - Fire TV Edition, Released 2020 ', 'https://www.amazon.com/All-New-Toshiba-43LF421U21-43-inch-Smart/dp/B086VR9J8Q/ref=sr_1_9?dchild=1&keywords=tv&qid=1620942726&sr=8-9', '$269.99'), ('Insignia NS-24DF310NA21 24-inch Smart HD 720p TV - Fire TV Edition ', 'https://www.amazon.com/gp/slredirect/picassoRedirect.html/ref=pa_sp_mtf_aps_sr_pg1_1?ie=UTF8&adId=A01532203B8VMNPTM8X1S&url=%2FAll-New-Insignia-NS-24DF310NA21-24-inch-Smart%2Fdp%2FB0874YZVWK%2Fref%3Dsr_1_12_sspa%3Fdchild%3D1%26keywords%3Dtv%26qid%3D1620942726%26sr%3D8-12-spons%26psc%3D1&qualifier=1620942726&id=2226181089429163&widgetName=sp_mtf', '$169.99'), ('SAMSUNG 65-inch Class Curved UHD TU-8300 Series - 4K UHD HDR Smart TV With Alexa Built-in (UN65TU8300FXZA, 2020 Model) ', 'https://www.amazon.com/SAMSUNG-65-inch-Curved-TU-8300-Built/dp/B08BTJ5JZ8/ref=sr_1_13?dchild=1&keywords=tv&qid=1620942726&sr=8-13', '$797.99'), ('TCL 32-inch Class 3-Series HD LED Smart Android TV - 32S334, 2021 Model ', 'https://www.amazon.com/TCL-32-inch-Class-Smart-Android/dp/B08P4WR6XB/ref=sr_1_14?dchild=1&keywords=tv&qid=1620942726&sr=8-14', '$158.00'), ('Hisense 40-Inch 40H5500F Class H55 Series Android Smart TV with Voice Remote (2020 Model) ', 'https://www.amazon.com/Hisense-40-Inch-Android-Remote-40H5500F/dp/B085LRHL3P/ref=sr_1_15?dchild=1&keywords=tv&qid=1620942726&sr=8-15', '$229.99'), (\"1080P Projector, FANGOR 2021 WiFi Projector Bluetooth Support, 7500L Movie Projector 4K Video Support, Home Projector Compatible with TV Stick, HDMI, USB, VGA, iOS/Android [120''Screen Included] \", 'https://www.amazon.com/gp/slredirect/picassoRedirect.html/ref=pa_sp_mtf_aps_sr_pg1_1?ie=UTF8&adId=A0186801XLKCA449C985&url=%2FProjector-FANGOR-Bluetooth-Compatible-120Screen%2Fdp%2FB08MQ5Y7WF%2Fref%3Dsr_1_17_sspa%3Fdchild%3D1%26keywords%3Dtv%26qid%3D1620942726%26sr%3D8-17-spons%26psc%3D1&qualifier=1620942726&id=2226181089429163&widgetName=sp_mtf', '$288.88'), ('Hisense 65-Inch Class R6 Series Dolby Vision HDR 4K UHD Roku Smart TV with Alexa Compatibility (65R6G, 2021 Model) ', 'https://www.amazon.com/Hisense-65-Inch-Vision-Compatibility-65R6G/dp/B08PDTM9ZD/ref=sr_1_18?dchild=1&keywords=tv&qid=1620942726&sr=8-18', '$529.99'), ('SAMSUNG 50 inches 4K Ultra HD Smart LED TV - UN50TU7000/UN50TU700D (2020 Model) (Renewed) ', 'https://www.amazon.com/Samsung-50-inch-Crystal-TU-7000-Built/dp/B08BNMLTT3/ref=sr_1_19?dchild=1&keywords=tv&qid=1620942726&sr=8-19', '$388.99'), ('TCL 65S425 65 Inch 4K UHD HDR Smart Roku TV (2019) ', 'https://www.amazon.com/TCL-4K-Smart-LED-65S425/dp/B07JKL2K5T/ref=sr_1_20?dchild=1&keywords=tv&qid=1620942726&sr=8-20', '$661.00'), ('Insignia NS-32DF310NA19 32-inch Smart HD TV - Fire TV Edition ', 'https://www.amazon.com/gp/slredirect/picassoRedirect.html/ref=pa_sp_btf_aps_sr_pg1_1?ie=UTF8&adId=A06247283D6GYPAZH2X3S&url=%2FInsignia-NS-32DF310NA19-32-inch-720p-Smart%2Fdp%2FB07FPP6TB5%2Fref%3Dsr_1_22_sspa%3Fdchild%3D1%26keywords%3Dtv%26qid%3D1620942726%26sr%3D8-22-spons%26psc%3D1&qualifier=1620942726&id=2226181089429163&widgetName=sp_btf', '$199.99')]\n"
     ]
    }
   ],
   "source": [
    "print(find_amazon_prices('tv'))"
   ]
  }
 ],
 "metadata": {
  "kernelspec": {
   "display_name": "Python 3",
   "language": "python",
   "name": "python3"
  },
  "language_info": {
   "codemirror_mode": {
    "name": "ipython",
    "version": 3
   },
   "file_extension": ".py",
   "mimetype": "text/x-python",
   "name": "python",
   "nbconvert_exporter": "python",
   "pygments_lexer": "ipython3",
   "version": "3.7.3"
  }
 },
 "nbformat": 4,
 "nbformat_minor": 2
}
