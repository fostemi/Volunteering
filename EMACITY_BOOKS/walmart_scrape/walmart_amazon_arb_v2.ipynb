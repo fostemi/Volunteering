{
 "cells": [
  {
   "cell_type": "code",
   "execution_count": 1,
   "metadata": {},
   "outputs": [],
   "source": [
    "import csv\n",
    "from bs4 import BeautifulSoup\n",
    "import requests\n",
    "from selenium import webdriver"
   ]
  },
  {
   "cell_type": "code",
   "execution_count": 2,
   "metadata": {},
   "outputs": [],
   "source": [
    "driver = webdriver.Firefox(executable_path=r'/Users/michael/Downloads/geckodriver')\n",
    "url = 'https://www.walmart.com/browse/toys/board-games/4171_4191_133123?page=2'\n",
    "driver.get(url)"
   ]
  },
  {
   "cell_type": "code",
   "execution_count": 8,
   "metadata": {},
   "outputs": [],
   "source": [
    "soup = BeautifulSoup(driver.page_source, 'html.parser')\n",
    "results = soup.find_all('div', class_ = \"search-result-gridview-item clearfix arrange-fill\")"
   ]
  },
  {
   "cell_type": "code",
   "execution_count": 9,
   "metadata": {},
   "outputs": [
    {
     "name": "stdout",
     "output_type": "stream",
     "text": [
      "Educational Insights Pancake Pile-Up!, Sequence Relay Game: Preschool Game for Preschoolers & Toddlers, Ages 4+\n"
     ]
    }
   ],
   "source": [
    "item = results[0]\n",
    "title = item.find('div', class_ = 'search-result-product-title gridview').text\n",
    "if 'Product Title' in title:\n",
    "    title = title[13:]\n",
    "print(title)"
   ]
  },
  {
   "cell_type": "code",
   "execution_count": 10,
   "metadata": {},
   "outputs": [
    {
     "name": "stdout",
     "output_type": "stream",
     "text": [
      "$15.99\n"
     ]
    }
   ],
   "source": [
    "price = item.find('span', class_ = 'price-group').text\n",
    "print(price)"
   ]
  },
  {
   "cell_type": "code",
   "execution_count": 14,
   "metadata": {},
   "outputs": [
    {
     "data": {
      "text/plain": [
       "False"
      ]
     },
     "execution_count": 14,
     "metadata": {},
     "output_type": "execute_result"
    }
   ],
   "source": [
    "reduced_price = False\n",
    "if(item.find('span', class_='flag-angle__content')):\n",
    "    reduced_price = True\n",
    "reduced_price"
   ]
  },
  {
   "cell_type": "code",
   "execution_count": 11,
   "metadata": {},
   "outputs": [
    {
     "name": "stdout",
     "output_type": "stream",
     "text": [
      "Reduced Price\n",
      "Reduced Price\n"
     ]
    },
    {
     "data": {
      "text/plain": [
       "['Product TitleAcer CB272U smiiprx 27\" WQHD (2560 x 1440) IPS Frameless, AMD FreeSync, 100% sRGB, ErgoStand Monitor (Display Port, 2 x HDMI 2.0 ports) Monitor',\n",
       " 'Product TitleContixo F30 4K UHD Drone for Adults with Wifi Camera GPS FPV Follow Me Two Batteries']"
      ]
     },
     "execution_count": 11,
     "metadata": {},
     "output_type": "execute_result"
    }
   ],
   "source": [
    "driver = webdriver.Firefox(executable_path=r'/Users/michael/Downloads/geckodriver')\n",
    "url = 'https://www.walmart.com/m/electronics?page=2&ps=60'\n",
    "driver.get(url)\n",
    "soup = BeautifulSoup(driver.page_source, 'html.parser')\n",
    "results = soup.find_all('div', class_ = \"search-result-gridview-item clearfix arrange-fill\")\n",
    "i=0\n",
    "title = []\n",
    "price = []\n",
    "sales = [[]]\n",
    "for item in results:\n",
    "    i += 1\n",
    "    title.append(item.find('div', class_ = 'search-result-product-title gridview').text)\n",
    "    if 'Product Title' in title:\n",
    "        title[i] = title[i][13:]\n",
    "    price.append(item.find('span', class_ = 'price-group').text)\n",
    "    if(item.find('span', class_='flag-angle__content')):\n",
    "        if(item.find('span', class_='flag-angle__content').text == 'Reduced Price'):\n",
    "            print(item.find('span', class_='flag-angle__content').text)\n",
    "            sales.append(title[i-1],price[i-1])\n",
    "sales"
   ]
  },
  {
   "cell_type": "code",
   "execution_count": 2,
   "metadata": {},
   "outputs": [],
   "source": [
    "def generate_record( item ):\n",
    "    try:\n",
    "        title = item.find('div', class_ = 'search-result-product-title gridview').text\n",
    "        if 'Product Title' in title:\n",
    "            title = title[13:]\n",
    "    except AttributeError:\n",
    "        return\n",
    "        \n",
    "    try:\n",
    "        price = item.find('span', class_ = 'price-group').text\n",
    "    except AttributeError:\n",
    "        price = 0.0\n",
    "        \n",
    "    if(item.find('span', class_='flag-angle__content')):\n",
    "        special = item.find('span', class_='flag-angle__content').text\n",
    "        if(special == 'Reduced Price' or special == 'Clearance' or special == 'Rollback'):\n",
    "            sale = special\n",
    "            result = (title, price, sale)\n",
    "            return result\n",
    "\n",
    "def search_and_write(items):\n",
    "    records = []\n",
    "    dropship_products = []\n",
    "    driver = webdriver.Firefox(executable_path=r'/Users/michael/Downloads/geckodriver')\n",
    "    categories = ['trampolines/4125_1224931_5230']\n",
    "    \n",
    "    for category in categories:\n",
    "        for i in range(25):\n",
    "            url_trampoline = 'https://www.walmart.com/browse/toys/' + category + '?page=' + str(i+1)\n",
    "            url = 'https://www.walmart.com/browse/office-supplies/school-supplies/1229749_1086045?page=' + str(i+1)\n",
    "            driver.get(url)\n",
    "            soup = BeautifulSoup(driver.page_source, 'html.parser')\n",
    "            results = soup.find_all('div', {'data-type': 'items'})\n",
    "            \n",
    "            for item in results:\n",
    "                record = generate_record(item)\n",
    "                if record:\n",
    "                    records.append(record)\n",
    "        \n",
    "    driver.close()\n",
    "    with open('results_' + items + '.csv', 'w', newline='', encoding='utf-8') as f:\n",
    "        writer = csv.writer(f)\n",
    "        writer.writerow(['Name', 'Price', 'Sale'])\n",
    "        writer.writerows(records)"
   ]
  },
  {
   "cell_type": "code",
   "execution_count": 3,
   "metadata": {},
   "outputs": [],
   "source": [
    "search_and_write('school_supplies')"
   ]
  }
 ],
 "metadata": {
  "kernelspec": {
   "display_name": "Python 3",
   "language": "python",
   "name": "python3"
  },
  "language_info": {
   "codemirror_mode": {
    "name": "ipython",
    "version": 3
   },
   "file_extension": ".py",
   "mimetype": "text/x-python",
   "name": "python",
   "nbconvert_exporter": "python",
   "pygments_lexer": "ipython3",
   "version": "3.7.3"
  }
 },
 "nbformat": 4,
 "nbformat_minor": 2
}
